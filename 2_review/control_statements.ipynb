{
 "cells": [
  {
   "cell_type": "markdown",
   "metadata": {},
   "source": [
    "**Challenge**: Print all numbers from 1 to 50 (with spaces in between)\n",
    "\n",
    "Here's an example for 1 to 10 below."
   ]
  },
  {
   "cell_type": "code",
   "execution_count": 3,
   "metadata": {},
   "outputs": [
    {
     "name": "stdout",
     "output_type": "stream",
     "text": [
      "1 2 3 4 5 6 7 8 9 10\n"
     ]
    }
   ],
   "source": [
    "print(1,2,3,4,5,6,7,8,9,10)"
   ]
  },
  {
   "cell_type": "markdown",
   "metadata": {},
   "source": [
    "Perhaps now you understand the monotony that led the forefathers of computer science to declare the above as horribly ugly and a scrouge to mankind. How about we use loops instead..."
   ]
  },
  {
   "cell_type": "code",
   "execution_count": 6,
   "metadata": {},
   "outputs": [
    {
     "name": "stdout",
     "output_type": "stream",
     "text": [
      "1 2 3 4 5 6 7 8 9 10 11 12 13 14 15 16 17 18 19 20 21 22 23 24 25 26 27 28 29 30 31 32 33 34 35 36 37 38 39 40 41 42 43 44 45 46 47 48 49 50 \n"
     ]
    }
   ],
   "source": [
    "toprint = \"\"\n",
    "for i in range(1,51):\n",
    "    toprint = toprint + str(i) + \" \"\n",
    "print(toprint)"
   ]
  },
  {
   "cell_type": "markdown",
   "metadata": {},
   "source": [
    "Or even fancier..."
   ]
  },
  {
   "cell_type": "code",
   "execution_count": 7,
   "metadata": {},
   "outputs": [
    {
     "name": "stdout",
     "output_type": "stream",
     "text": [
      "1 2 3 4 5 6 7 8 9 10 11 12 13 14 15 16 17 18 19 20 21 22 23 24 25 26 27 28 29 30 31 32 33 34 35 36 37 38 39 40 41 42 43 44 45 46 47 48 49 50 "
     ]
    }
   ],
   "source": [
    "for i in range(1,51): print(i, end=\" \")"
   ]
  },
  {
   "cell_type": "markdown",
   "metadata": {},
   "source": [
    "What if we don't know how many times to iterate, just that we need to iterate until a certain condition is fulfilled?"
   ]
  },
  {
   "cell_type": "code",
   "execution_count": 13,
   "metadata": {},
   "outputs": [
    {
     "name": "stdout",
     "output_type": "stream",
     "text": [
      "I'm not exiting, I'm at 1\n",
      "I'm not exiting, I'm at 2\n",
      "I'm not exiting, I'm at 3\n",
      "I'm not exiting, I'm at 4\n",
      "I'm not exiting, I'm at 5\n",
      "I'm not exiting, I'm at 6\n",
      "I'm not exiting, I'm at 7\n",
      "I'm not exiting, I'm at 8\n",
      "I'm not exiting, I'm at 9\n",
      "I'm out at 10\n"
     ]
    }
   ],
   "source": [
    "i = 0\n",
    "exit = False\n",
    "while exit == False:\n",
    "    i = i + 1\n",
    "    if i >= 10: exit = True\n",
    "    else: print(\"I'm not exiting, I'm at \"+str(i))\n",
    "print(\"I'm out at \"+str(i))"
   ]
  }
 ],
 "metadata": {
  "kernelspec": {
   "display_name": "Python 3",
   "language": "python",
   "name": "python3"
  },
  "language_info": {
   "codemirror_mode": {
    "name": "ipython",
    "version": 3
   },
   "file_extension": ".py",
   "mimetype": "text/x-python",
   "name": "python",
   "nbconvert_exporter": "python",
   "pygments_lexer": "ipython3",
   "version": "3.7.4"
  }
 },
 "nbformat": 4,
 "nbformat_minor": 2
}
